{
  "nbformat": 4,
  "nbformat_minor": 0,
  "metadata": {
    "colab": {
      "name": "fashion_mnist.ipynb",
      "provenance": []
    },
    "kernelspec": {
      "name": "python3",
      "display_name": "Python 3"
    },
    "language_info": {
      "name": "python"
    }
  },
  "cells": [
    {
      "cell_type": "markdown",
      "metadata": {
        "id": "8TlEhsfJ9rti"
      },
      "source": [
        "# Image Classification using Fashion-MNIST image data"
      ]
    },
    {
      "cell_type": "code",
      "metadata": {
        "colab": {
          "base_uri": "https://localhost:8080/"
        },
        "id": "usCuJHFQqqFz",
        "outputId": "474db329-ad15-40e6-ebc4-1fa797922bbe"
      },
      "source": [
        "import tensorflow as tf\n",
        "from tensorflow import keras\n",
        "print(tf.__version__)\n",
        "\n",
        "import numpy as np\n",
        "import matplotlib.pyplot as plt"
      ],
      "execution_count": 1,
      "outputs": [
        {
          "output_type": "stream",
          "name": "stdout",
          "text": [
            "2.12.0\n"
          ]
        }
      ]
    },
    {
      "cell_type": "markdown",
      "metadata": {
        "id": "dtQfJNudsBZI"
      },
      "source": [
        "## Load image data\n",
        "\n",
        "Fashion-MNIST is a dataset of Zalando's article images consisting of a training set of 60,000 examples and a test set of 10,000 examples. Each example is a 28x28 grayscale image, associated with a label from 10 classes.\n",
        "\n",
        "https://www.tensorflow.org/datasets/catalog/fashion_mnist\n",
        "\n",
        "https://github.com/zalandoresearch/fashion-mnist"
      ]
    },
    {
      "cell_type": "code",
      "metadata": {
        "id": "LHrt3jJRrbM5",
        "colab": {
          "base_uri": "https://localhost:8080/"
        },
        "outputId": "fab741e7-7b11-4631-b380-b5d9fe86cb80"
      },
      "source": [
        "fashion_mnist = keras.datasets.fashion_mnist\n",
        "(train_images, train_labels), (test_images, test_labels) = fashion_mnist.load_data()"
      ],
      "execution_count": 2,
      "outputs": [
        {
          "output_type": "stream",
          "name": "stdout",
          "text": [
            "Downloading data from https://storage.googleapis.com/tensorflow/tf-keras-datasets/train-labels-idx1-ubyte.gz\n",
            "29515/29515 [==============================] - 0s 0us/step\n",
            "Downloading data from https://storage.googleapis.com/tensorflow/tf-keras-datasets/train-images-idx3-ubyte.gz\n",
            "26421880/26421880 [==============================] - 0s 0us/step\n",
            "Downloading data from https://storage.googleapis.com/tensorflow/tf-keras-datasets/t10k-labels-idx1-ubyte.gz\n",
            "5148/5148 [==============================] - 0s 0us/step\n",
            "Downloading data from https://storage.googleapis.com/tensorflow/tf-keras-datasets/t10k-images-idx3-ubyte.gz\n",
            "4422102/4422102 [==============================] - 0s 0us/step\n"
          ]
        }
      ]
    },
    {
      "cell_type": "markdown",
      "metadata": {
        "id": "Bhv14ObBswiA"
      },
      "source": [
        "Pixel values are between 0 and 255, 0 being black and 255 white (grey-scale image).\n",
        "\n",
        "Check the loaded data - Image"
      ]
    },
    {
      "cell_type": "code",
      "metadata": {
        "colab": {
          "base_uri": "https://localhost:8080/"
        },
        "id": "HLX_RkQGsI6o",
        "outputId": "27db77f6-fe18-4b39-cedd-f870edc06cdd"
      },
      "source": [
        "print(train_images.shape)\n",
        "print(train_images[0,:])"
      ],
      "execution_count": 3,
      "outputs": [
        {
          "output_type": "stream",
          "name": "stdout",
          "text": [
            "(60000, 28, 28)\n",
            "[[  0   0   0   0   0   0   0   0   0   0   0   0   0   0   0   0   0   0\n",
            "    0   0   0   0   0   0   0   0   0   0]\n",
            " [  0   0   0   0   0   0   0   0   0   0   0   0   0   0   0   0   0   0\n",
            "    0   0   0   0   0   0   0   0   0   0]\n",
            " [  0   0   0   0   0   0   0   0   0   0   0   0   0   0   0   0   0   0\n",
            "    0   0   0   0   0   0   0   0   0   0]\n",
            " [  0   0   0   0   0   0   0   0   0   0   0   0   1   0   0  13  73   0\n",
            "    0   1   4   0   0   0   0   1   1   0]\n",
            " [  0   0   0   0   0   0   0   0   0   0   0   0   3   0  36 136 127  62\n",
            "   54   0   0   0   1   3   4   0   0   3]\n",
            " [  0   0   0   0   0   0   0   0   0   0   0   0   6   0 102 204 176 134\n",
            "  144 123  23   0   0   0   0  12  10   0]\n",
            " [  0   0   0   0   0   0   0   0   0   0   0   0   0   0 155 236 207 178\n",
            "  107 156 161 109  64  23  77 130  72  15]\n",
            " [  0   0   0   0   0   0   0   0   0   0   0   1   0  69 207 223 218 216\n",
            "  216 163 127 121 122 146 141  88 172  66]\n",
            " [  0   0   0   0   0   0   0   0   0   1   1   1   0 200 232 232 233 229\n",
            "  223 223 215 213 164 127 123 196 229   0]\n",
            " [  0   0   0   0   0   0   0   0   0   0   0   0   0 183 225 216 223 228\n",
            "  235 227 224 222 224 221 223 245 173   0]\n",
            " [  0   0   0   0   0   0   0   0   0   0   0   0   0 193 228 218 213 198\n",
            "  180 212 210 211 213 223 220 243 202   0]\n",
            " [  0   0   0   0   0   0   0   0   0   1   3   0  12 219 220 212 218 192\n",
            "  169 227 208 218 224 212 226 197 209  52]\n",
            " [  0   0   0   0   0   0   0   0   0   0   6   0  99 244 222 220 218 203\n",
            "  198 221 215 213 222 220 245 119 167  56]\n",
            " [  0   0   0   0   0   0   0   0   0   4   0   0  55 236 228 230 228 240\n",
            "  232 213 218 223 234 217 217 209  92   0]\n",
            " [  0   0   1   4   6   7   2   0   0   0   0   0 237 226 217 223 222 219\n",
            "  222 221 216 223 229 215 218 255  77   0]\n",
            " [  0   3   0   0   0   0   0   0   0  62 145 204 228 207 213 221 218 208\n",
            "  211 218 224 223 219 215 224 244 159   0]\n",
            " [  0   0   0   0  18  44  82 107 189 228 220 222 217 226 200 205 211 230\n",
            "  224 234 176 188 250 248 233 238 215   0]\n",
            " [  0  57 187 208 224 221 224 208 204 214 208 209 200 159 245 193 206 223\n",
            "  255 255 221 234 221 211 220 232 246   0]\n",
            " [  3 202 228 224 221 211 211 214 205 205 205 220 240  80 150 255 229 221\n",
            "  188 154 191 210 204 209 222 228 225   0]\n",
            " [ 98 233 198 210 222 229 229 234 249 220 194 215 217 241  65  73 106 117\n",
            "  168 219 221 215 217 223 223 224 229  29]\n",
            " [ 75 204 212 204 193 205 211 225 216 185 197 206 198 213 240 195 227 245\n",
            "  239 223 218 212 209 222 220 221 230  67]\n",
            " [ 48 203 183 194 213 197 185 190 194 192 202 214 219 221 220 236 225 216\n",
            "  199 206 186 181 177 172 181 205 206 115]\n",
            " [  0 122 219 193 179 171 183 196 204 210 213 207 211 210 200 196 194 191\n",
            "  195 191 198 192 176 156 167 177 210  92]\n",
            " [  0   0  74 189 212 191 175 172 175 181 185 188 189 188 193 198 204 209\n",
            "  210 210 211 188 188 194 192 216 170   0]\n",
            " [  2   0   0   0  66 200 222 237 239 242 246 243 244 221 220 193 191 179\n",
            "  182 182 181 176 166 168  99  58   0   0]\n",
            " [  0   0   0   0   0   0   0  40  61  44  72  41  35   0   0   0   0   0\n",
            "    0   0   0   0   0   0   0   0   0   0]\n",
            " [  0   0   0   0   0   0   0   0   0   0   0   0   0   0   0   0   0   0\n",
            "    0   0   0   0   0   0   0   0   0   0]\n",
            " [  0   0   0   0   0   0   0   0   0   0   0   0   0   0   0   0   0   0\n",
            "    0   0   0   0   0   0   0   0   0   0]]\n"
          ]
        }
      ]
    },
    {
      "cell_type": "code",
      "metadata": {
        "colab": {
          "base_uri": "https://localhost:8080/",
          "height": 430
        },
        "id": "zekY0RBftpAA",
        "outputId": "de4f8152-fde7-4d16-cee6-2f34c2a76caf"
      },
      "source": [
        "plt.figure()\n",
        "plt.imshow(train_images[36])\n",
        "plt.colorbar()\n",
        "plt.grid(False)\n",
        "plt.show()"
      ],
      "execution_count": 4,
      "outputs": [
        {
          "output_type": "display_data",
          "data": {
            "text/plain": [
              "<Figure size 640x480 with 2 Axes>"
            ],
            "image/png": "[encoded data removed]"
          },
          "metadata": {}
        }
      ]
    },
    {
      "cell_type": "markdown",
      "metadata": {
        "id": "kXHL34qutEww"
      },
      "source": [
        "Labels are integers from 0 to 9.  Each represents a specific article of clothing.\n",
        "\n",
        "Check the loaded data - Label"
      ]
    },
    {
      "cell_type": "code",
      "metadata": {
        "colab": {
          "base_uri": "https://localhost:8080/"
        },
        "id": "k1SaLSmPspYw",
        "outputId": "99e536d0-3540-4eeb-ea55-5b06fa6c83bb"
      },
      "source": [
        "train_labels[:12]  # First 12 training labels"
      ],
      "execution_count": 5,
      "outputs": [
        {
          "output_type": "execute_result",
          "data": {
            "text/plain": [
              "array([9, 0, 0, 3, 0, 2, 7, 2, 5, 5, 0, 9], dtype=uint8)"
            ]
          },
          "metadata": {},
          "execution_count": 5
        }
      ]
    },
    {
      "cell_type": "markdown",
      "metadata": {
        "id": "WuQc91CCl_Cw"
      },
      "source": [
        "Define class names"
      ]
    },
    {
      "cell_type": "code",
      "metadata": {
        "id": "fwNkcOhPtpMX"
      },
      "source": [
        "class_names = ['T-shirt/top', 'Trouser', 'Pullover', 'Dress', 'Coat', 'Sandal', 'Shirt', 'Sneaker', 'Bag', 'Ankle boot']"
      ],
      "execution_count": 6,
      "outputs": []
    },
    {
      "cell_type": "markdown",
      "metadata": {
        "id": "44S38onPrbDw"
      },
      "source": [
        "## Data Preprocessing"
      ]
    },
    {
      "cell_type": "code",
      "metadata": {
        "id": "0YEcXFcLuVx_"
      },
      "source": [
        "train_images = train_images / 255.0\n",
        "test_images = test_images / 255.0\n",
        "\n",
        "train_images = train_images.astype('float32')\n",
        "test_images = test_images.astype('float32')\n",
        "\n",
        "# Reshape the array to 4-dims so that it can work with the Keras API\n",
        "train_images = train_images.reshape(train_images.shape[0], 28, 28, 1)\n",
        "test_images = test_images.reshape(test_images.shape[0], 28, 28, 1)\n",
        "input_shape = (28, 28, 1)"
      ],
      "execution_count": 7,
      "outputs": []
    },
    {
      "cell_type": "markdown",
      "metadata": {
        "id": "p7Q2UPVMufYW"
      },
      "source": [
        "## Build the Model"
      ]
    },
    {
      "cell_type": "code",
      "metadata": {
        "id": "kOlqAcnfuieP"
      },
      "source": [
        "model = keras.Sequential([\n",
        "    keras.layers.Conv2D(6, kernel_size=(5,5), padding='same', input_shape=input_shape),\n",
        "    keras.layers.MaxPooling2D(pool_size=(2,2)),\n",
        "    keras.layers.Conv2D(16, kernel_size=(5,5)),\n",
        "    keras.layers.MaxPooling2D(pool_size=(2,2)),\n",
        "    keras.layers.Flatten(),\n",
        "    keras.layers.Dense(128, activation='relu'),\n",
        "    keras.layers.Dense(64, activation='relu'),\n",
        "    keras.layers.Dropout(0.2),\n",
        "    keras.layers.Dense(10, activation='softmax')\n",
        "])"
      ],
      "execution_count": 8,
      "outputs": []
    },
    {
      "cell_type": "code",
      "metadata": {
        "colab": {
          "base_uri": "https://localhost:8080/"
        },
        "id": "wC1SK5bZ7X7k",
        "outputId": "90143884-91a3-41f5-e333-ddedaa87aea7"
      },
      "source": [
        "model.summary()"
      ],
      "execution_count": 9,
      "outputs": [
        {
          "output_type": "stream",
          "name": "stdout",
          "text": [
            "Model: \"sequential\"\n",
            "_________________________________________________________________\n",
            " Layer (type)                Output Shape              Param #   \n",
            "=================================================================\n",
            " conv2d (Conv2D)             (None, 28, 28, 6)         156       \n",
            "                                                                 \n",
            " max_pooling2d (MaxPooling2D  (None, 14, 14, 6)        0         \n",
            " )                                                               \n",
            "                                                                 \n",
            " conv2d_1 (Conv2D)           (None, 10, 10, 16)        2416      \n",
            "                                                                 \n",
            " max_pooling2d_1 (MaxPooling  (None, 5, 5, 16)         0         \n",
            " 2D)                                                             \n",
            "                                                                 \n",
            " flatten (Flatten)           (None, 400)               0         \n",
            "                                                                 \n",
            " dense (Dense)               (None, 128)               51328     \n",
            "                                                                 \n",
            " dense_1 (Dense)             (None, 64)                8256      \n",
            "                                                                 \n",
            " dropout (Dropout)           (None, 64)                0         \n",
            "                                                                 \n",
            " dense_2 (Dense)             (None, 10)                650       \n",
            "                                                                 \n",
            "=================================================================\n",
            "Total params: 62,806\n",
            "Trainable params: 62,806\n",
            "Non-trainable params: 0\n",
            "_________________________________________________________________\n"
          ]
        }
      ]
    },
    {
      "cell_type": "markdown",
      "metadata": {
        "id": "tdTQocvrvkKv"
      },
      "source": [
        "## Compile the Model"
      ]
    },
    {
      "cell_type": "code",
      "metadata": {
        "id": "e1KtOpDTvmSY"
      },
      "source": [
        "model.compile(optimizer='adam',\n",
        "              loss='sparse_categorical_crossentropy',\n",
        "              metrics=['accuracy'])"
      ],
      "execution_count": 10,
      "outputs": []
    },
    {
      "cell_type": "markdown",
      "metadata": {
        "id": "4Mf-hV_Kv9Fo"
      },
      "source": [
        "## Train the Model"
      ]
    },
    {
      "cell_type": "code",
      "metadata": {
        "colab": {
          "base_uri": "https://localhost:8080/"
        },
        "id": "PB82VLNRv_PX",
        "outputId": "99c7eb9c-e058-4f97-a6ac-64d9fb9f97c8"
      },
      "source": [
        "model.fit(train_images, train_labels, epochs=30)"
      ],
      "execution_count": 15,
      "outputs": [
        {
          "output_type": "stream",
          "name": "stdout",
          "text": [
            "Epoch 1/30\n",
            "1875/1875 [==============================] - 37s 20ms/step - loss: 0.0803 - accuracy: 0.9689\n",
            "Epoch 2/30\n",
            "1875/1875 [==============================] - 32s 17ms/step - loss: 0.0741 - accuracy: 0.9714\n",
            "Epoch 3/30\n",
            "1875/1875 [==============================] - 32s 17ms/step - loss: 0.0752 - accuracy: 0.9711\n",
            "Epoch 4/30\n",
            "1875/1875 [==============================] - 31s 17ms/step - loss: 0.0748 - accuracy: 0.9720\n",
            "Epoch 5/30\n",
            "1875/1875 [==============================] - 32s 17ms/step - loss: 0.0735 - accuracy: 0.9714\n",
            "Epoch 6/30\n",
            "1875/1875 [==============================] - 32s 17ms/step - loss: 0.0680 - accuracy: 0.9743\n",
            "Epoch 7/30\n",
            "1875/1875 [==============================] - 31s 16ms/step - loss: 0.0678 - accuracy: 0.9740\n",
            "Epoch 8/30\n",
            "1875/1875 [==============================] - 32s 17ms/step - loss: 0.0654 - accuracy: 0.9755\n",
            "Epoch 9/30\n",
            "1875/1875 [==============================] - 31s 16ms/step - loss: 0.0634 - accuracy: 0.9757\n",
            "Epoch 10/30\n",
            "1875/1875 [==============================] - 32s 17ms/step - loss: 0.0611 - accuracy: 0.9765\n",
            "Epoch 11/30\n",
            "1875/1875 [==============================] - 31s 17ms/step - loss: 0.0637 - accuracy: 0.9762\n",
            "Epoch 12/30\n",
            "1875/1875 [==============================] - 31s 16ms/step - loss: 0.0594 - accuracy: 0.9773\n",
            "Epoch 13/30\n",
            "1875/1875 [==============================] - 32s 17ms/step - loss: 0.0590 - accuracy: 0.9775\n",
            "Epoch 14/30\n",
            "1875/1875 [==============================] - 32s 17ms/step - loss: 0.0578 - accuracy: 0.9776\n",
            "Epoch 15/30\n",
            "1875/1875 [==============================] - 32s 17ms/step - loss: 0.0587 - accuracy: 0.9778\n",
            "Epoch 16/30\n",
            "1875/1875 [==============================] - 32s 17ms/step - loss: 0.0598 - accuracy: 0.9785\n",
            "Epoch 17/30\n",
            "1875/1875 [==============================] - 31s 17ms/step - loss: 0.0538 - accuracy: 0.9798\n",
            "Epoch 18/30\n",
            "1875/1875 [==============================] - 32s 17ms/step - loss: 0.0529 - accuracy: 0.9801\n",
            "Epoch 19/30\n",
            "1875/1875 [==============================] - 32s 17ms/step - loss: 0.0529 - accuracy: 0.9805\n",
            "Epoch 20/30\n",
            "1875/1875 [==============================] - 31s 17ms/step - loss: 0.0524 - accuracy: 0.9808\n",
            "Epoch 21/30\n",
            "1875/1875 [==============================] - 32s 17ms/step - loss: 0.0505 - accuracy: 0.9811\n",
            "Epoch 22/30\n",
            "1875/1875 [==============================] - 32s 17ms/step - loss: 0.0498 - accuracy: 0.9817\n",
            "Epoch 23/30\n",
            "1875/1875 [==============================] - 32s 17ms/step - loss: 0.0485 - accuracy: 0.9818\n",
            "Epoch 24/30\n",
            "1875/1875 [==============================] - 33s 18ms/step - loss: 0.0486 - accuracy: 0.9822\n",
            "Epoch 25/30\n",
            "1875/1875 [==============================] - 33s 18ms/step - loss: 0.0496 - accuracy: 0.9823\n",
            "Epoch 26/30\n",
            "1875/1875 [==============================] - 32s 17ms/step - loss: 0.0470 - accuracy: 0.9824\n",
            "Epoch 27/30\n",
            "1875/1875 [==============================] - 32s 17ms/step - loss: 0.0503 - accuracy: 0.9823\n",
            "Epoch 28/30\n",
            "1875/1875 [==============================] - 33s 17ms/step - loss: 0.0466 - accuracy: 0.9840\n",
            "Epoch 29/30\n",
            "1875/1875 [==============================] - 32s 17ms/step - loss: 0.0448 - accuracy: 0.9837\n",
            "Epoch 30/30\n",
            "1875/1875 [==============================] - 32s 17ms/step - loss: 0.0447 - accuracy: 0.9843\n"
          ]
        },
        {
          "output_type": "execute_result",
          "data": {
            "text/plain": [
              "<keras.callbacks.History at 0x7f7acfcb0fd0>"
            ]
          },
          "metadata": {},
          "execution_count": 15
        }
      ]
    },
    {
      "cell_type": "markdown",
      "metadata": {
        "id": "p5L-u4twwfsl"
      },
      "source": [
        "## Evaluate the Model"
      ]
    },
    {
      "cell_type": "code",
      "metadata": {
        "colab": {
          "base_uri": "https://localhost:8080/"
        },
        "id": "ob-06S51wkLu",
        "outputId": "0b9c39a2-a4b8-4718-b15a-f13017530655"
      },
      "source": [
        "test_loss, test_acc = model.evaluate(test_images, test_labels, verbose=1)\n",
        "print('Test Accuracy:', test_acc)"
      ],
      "execution_count": 16,
      "outputs": [
        {
          "output_type": "stream",
          "name": "stdout",
          "text": [
            "313/313 [==============================] - 2s 7ms/step - loss: 0.8434 - accuracy: 0.8979\n",
            "Test Accuracy: 0.8978999853134155\n"
          ]
        }
      ]
    },
    {
      "cell_type": "markdown",
      "metadata": {
        "id": "RpArkIhtxR0P"
      },
      "source": [
        "## Make a Prediction"
      ]
    },
    {
      "cell_type": "code",
      "metadata": {
        "colab": {
          "base_uri": "https://localhost:8080/",
          "height": 719
        },
        "id": "4q8BDi5FxUNG",
        "outputId": "c7a28fdb-48e8-43b4-e02e-cc83e783898e"
      },
      "source": [
        "predictions = model.predict(test_images)\n",
        "print(predictions)\n",
        "# predictions = model.predict([test_images[0]])\n",
        "\n",
        "print(np.argmax(predictions[101]))\n",
        "print(class_names[np.argmax(predictions[101])])\n",
        "\n",
        "plt.figure()\n",
        "plt.imshow(test_images[101].reshape(28,28))\n",
        "plt.colorbar()\n",
        "plt.grid(False)\n",
        "plt.show()"
      ],
      "execution_count": 17,
      "outputs": [
        {
          "output_type": "stream",
          "name": "stdout",
          "text": [
            "313/313 [==============================] - 3s 9ms/step\n",
            "[[6.1884959e-24 0.0000000e+00 1.1559864e-31 ... 1.2996134e-13\n",
            "  6.1544270e-25 9.9999994e-01]\n",
            " [4.5540217e-29 0.0000000e+00 9.9999994e-01 ... 0.0000000e+00\n",
            "  4.5012117e-34 0.0000000e+00]\n",
            " [0.0000000e+00 9.9999994e-01 0.0000000e+00 ... 0.0000000e+00\n",
            "  0.0000000e+00 0.0000000e+00]\n",
            " ...\n",
            " [2.8427842e-16 0.0000000e+00 5.9557302e-25 ... 0.0000000e+00\n",
            "  9.9999994e-01 0.0000000e+00]\n",
            " [0.0000000e+00 9.9999994e-01 0.0000000e+00 ... 0.0000000e+00\n",
            "  0.0000000e+00 0.0000000e+00]\n",
            " [7.8251267e-20 0.0000000e+00 1.3448058e-22 ... 2.5276538e-08\n",
            "  1.9233690e-17 5.8035222e-22]]\n",
            "6\n",
            "Shirt\n"
          ]
        },
        {
          "output_type": "display_data",
          "data": {
            "text/plain": [
              "<Figure size 640x480 with 2 Axes>"
            ],
            "image/png": "[encoded data removed]"
          },
          "metadata": {}
        }
      ]
    },
    {
      "cell_type": "code",
      "metadata": {
        "colab": {
          "base_uri": "https://localhost:8080/",
          "height": 506
        },
        "id": "A2X4IOx9yk--",
        "outputId": "fa062ed8-17eb-4a1b-e986-33cccc53c352"
      },
      "source": [
        "COLOR = 'white'\n",
        "plt.rcParams['text.color'] = COLOR\n",
        "plt.rcParams['axes.labelcolor'] = COLOR \n",
        "\n",
        "def show_image(img, label, guess):\n",
        "  img = img.reshape(28,28)\n",
        "  plt.figure()\n",
        "  plt.imshow(img, cmap=plt.cm.binary)\n",
        "  # plt.title(\"Corrected label: \" + label)\n",
        "  # plt.xlabel(\"Guessed label: \" + guess)\n",
        "  plt.colorbar()\n",
        "  plt.grid(False)\n",
        "  plt.show()\n",
        "  print(\"Correct label: \" + label)\n",
        "  print(\"Guessed label: \" + guess)\n",
        "\n",
        "def predict(model, image, correct_label):\n",
        "  class_names = ['T-shirt/top', 'Trouser', 'Pullover', 'Dress', 'Coat', 'Sandal', 'Shirt', 'Sneaker', 'Bag', 'Ankle boot']\n",
        "  prediction = model.predict(np.array([image]))\n",
        "  predicted_class = class_names[np.argmax(prediction)]\n",
        "  show_image(image, class_names[correct_label], predicted_class)\n",
        "\n",
        "def get_number():\n",
        "  while True:\n",
        "    num = input(\"Choose a number: \")\n",
        "    if num.isdigit():\n",
        "      num = int(num)\n",
        "      if 0<=num<=1000:\n",
        "        return int(num)\n",
        "    else:\n",
        "      print(\"Try again...\")\n",
        "\n",
        "num = get_number()\n",
        "image = test_images[num]\n",
        "label = test_labels[num]\n",
        "predict(model, image, label)"
      ],
      "execution_count": 18,
      "outputs": [
        {
          "output_type": "stream",
          "name": "stdout",
          "text": [
            "Choose a number: 55\n",
            "1/1 [==============================] - 0s 20ms/step\n"
          ]
        },
        {
          "output_type": "display_data",
          "data": {
            "text/plain": [
              "<Figure size 640x480 with 2 Axes>"
            ],
            "image/png": "[encoded data removed]"
          },
          "metadata": {}
        },
        {
          "output_type": "stream",
          "name": "stdout",
          "text": [
            "Correct label: Pullover\n",
            "Guessed label: Pullover\n"
          ]
        }
      ]
    }
  ]
}